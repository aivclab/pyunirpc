{
 "cells": [
  {
   "cell_type": "markdown",
   "metadata": {},
   "source": [
    "# Set up a simple PyUniRPC server"
   ]
  },
  {
   "cell_type": "code",
   "execution_count": null,
   "metadata": {
    "ExecuteTime": {
     "end_time": "2020-06-02T10:57:28.177873Z",
     "start_time": "2020-06-02T10:57:28.068816Z"
    }
   },
   "outputs": [],
   "source": [
    "from pyunirpc import *\n",
    "import numpy as np"
   ]
  },
  {
   "cell_type": "markdown",
   "metadata": {},
   "source": [
    "### Define a function, which can be called using RPC"
   ]
  },
  {
   "cell_type": "code",
   "execution_count": null,
   "metadata": {
    "ExecuteTime": {
     "end_time": "2020-06-02T10:57:28.200269Z",
     "start_time": "2020-06-02T10:57:28.179139Z"
    },
    "code_folding": [
     30
    ]
   },
   "outputs": [],
   "source": [
    "@rpchandle #Alternatively, use global_rpchandles.add(testfun)\n",
    "def my_function(number, string, array=np.zeros(3)):\n",
    "    '''\n",
    "      This function takes 3 parameters; `number`, `string`, `array`.\n",
    "      Each parameter is modified and returned\n",
    "    '''\n",
    "    number = number + 1\n",
    "    string = string.upper()\n",
    "    array = array + 1\n",
    "    return (number, string, array)"
   ]
  },
  {
   "cell_type": "markdown",
   "metadata": {},
   "source": [
    "### Start the RPC server locally\n",
    "Will run until terminated."
   ]
  },
  {
   "cell_type": "code",
   "execution_count": null,
   "metadata": {
    "ExecuteTime": {
     "start_time": "2020-06-02T10:57:24.120Z"
    }
   },
   "outputs": [],
   "source": [
    "rpcserver(bind=\"tcp://*:6789\", verbose=True)"
   ]
  }
 ],
 "metadata": {
  "kernelspec": {
   "display_name": "Python 3",
   "language": "python",
   "name": "python3"
  },
  "language_info": {
   "codemirror_mode": {
    "name": "ipython",
    "version": 3
   },
   "file_extension": ".py",
   "mimetype": "text/x-python",
   "name": "python",
   "nbconvert_exporter": "python",
   "pygments_lexer": "ipython3",
   "version": "3.8.5"
  }
 },
 "nbformat": 4,
 "nbformat_minor": 2
}
