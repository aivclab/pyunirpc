{
 "cells": [
  {
   "cell_type": "markdown",
   "metadata": {},
   "source": [
    "# Example client application\n",
    "Making calls to the PyUniRPC server via ZMQ"
   ]
  },
  {
   "cell_type": "code",
   "execution_count": null,
   "metadata": {
    "ExecuteTime": {
     "end_time": "2020-06-02T10:57:39.596950Z",
     "start_time": "2020-06-02T10:57:39.489852Z"
    }
   },
   "outputs": [],
   "source": [
    "import zmq\n",
    "import pyunirpc as prpc\n",
    "import numpy as np\n",
    "import json"
   ]
  },
  {
   "cell_type": "markdown",
   "metadata": {},
   "source": [
    "### Set up connection"
   ]
  },
  {
   "cell_type": "code",
   "execution_count": null,
   "metadata": {
    "ExecuteTime": {
     "end_time": "2020-06-02T10:57:39.596950Z",
     "start_time": "2020-06-02T10:57:39.489852Z"
    }
   },
   "outputs": [],
   "source": [
    "context = zmq.Context()\n",
    "socket = context.socket(zmq.REQ)\n",
    "socket.connect(\"tcp://localhost:6789\")\n",
    "print(\"Connected\")"
   ]
  },
  {
   "cell_type": "markdown",
   "metadata": {},
   "source": [
    "### Prepare RPC call\n",
    "Numpy arrays are dealt with as a special case, such that data can be sent in binary form (via Base64)."
   ]
  },
  {
   "cell_type": "code",
   "execution_count": null,
   "metadata": {
    "ExecuteTime": {
     "end_time": "2020-06-02T10:57:40.417646Z",
     "start_time": "2020-06-02T10:57:40.407991Z"
    }
   },
   "outputs": [],
   "source": [
    "raw_call = prpc.prepare_call(\n",
    "    handle = 'my_function',            #This is the name we defined server-side\n",
    "    uid    = 42,                       #An ID for this request\n",
    "    args = [17, 'this is a string'],   #Positional arguments\n",
    "    kwargs = dict(array=np.array([1,2,3])) #Keyword arguments dict\n",
    ")\n",
    "print(\"Raw call dictionary:\\n--------------------\")\n",
    "print(raw_call)"
   ]
  },
  {
   "cell_type": "markdown",
   "metadata": {},
   "source": [
    "### Dispatch call and receive result"
   ]
  },
  {
   "cell_type": "code",
   "execution_count": null,
   "metadata": {},
   "outputs": [],
   "source": [
    "print(\"Dispatching RPC call...\")\n",
    "socket.send(json.dumps(raw_call).encode()) #The raw call is converted to JSON bytes\n",
    "print(\"Receiving result...\")\n",
    "raw_result = json.loads(socket.recv()) #The result is decoded from JSON to a dict\n",
    "print(\"Raw result dictionary:\\n----------------------\")\n",
    "print(raw_result)\n",
    "\n",
    "\n",
    "if raw_result['rpc_tag'] == '__RPC_RESULT__':\n",
    "    result = prpc.decode_vals(raw_result['result']) #Decode the result tuple\n",
    "    print(\"\\nResult data `(type, value)`:\\n----------------------------\")\n",
    "    for r in result: print(type(r), r)\n",
    "else: #`raw_result['rpc_tag']` will be `__RPC_ERROR__`\n",
    "    print(\"\\nRPC error:\\n----------\")\n",
    "    print(raw_result['exception'])\n",
    "    print(raw_result['descr'])"
   ]
  }
 ],
 "metadata": {
  "kernelspec": {
   "display_name": "Python 3",
   "language": "python",
   "name": "python3"
  },
  "language_info": {
   "codemirror_mode": {
    "name": "ipython",
    "version": 3
   },
   "file_extension": ".py",
   "mimetype": "text/x-python",
   "name": "python",
   "nbconvert_exporter": "python",
   "pygments_lexer": "ipython3",
   "version": "3.8.5"
  }
 },
 "nbformat": 4,
 "nbformat_minor": 4
}
